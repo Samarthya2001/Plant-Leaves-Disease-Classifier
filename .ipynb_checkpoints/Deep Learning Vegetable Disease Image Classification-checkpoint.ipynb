{
 "cells": [
  {
   "cell_type": "code",
   "execution_count": null,
   "id": "cf546a63",
   "metadata": {
    "executionInfo": {
     "elapsed": 3375,
     "status": "ok",
     "timestamp": 1722430033363,
     "user": {
      "displayName": "samy",
      "userId": "15936932194482825472"
     },
     "user_tz": -330
    },
    "id": "cf546a63"
   },
   "outputs": [],
   "source": [
    "import pandas as pd\n",
    "import numpy as np\n",
    "import tensorflow as tf\n",
    "import matplotlib.pyplot as plt\n",
    "from tensorflow.keras import models, layers\n",
    "%matplotlib inline"
   ]
  },
  {
   "cell_type": "code",
   "execution_count": null,
   "id": "bhvbS0aJ4VLP",
   "metadata": {
    "colab": {
     "base_uri": "https://localhost:8080/"
    },
    "executionInfo": {
     "elapsed": 23164,
     "status": "ok",
     "timestamp": 1722430056508,
     "user": {
      "displayName": "samy",
      "userId": "15936932194482825472"
     },
     "user_tz": -330
    },
    "id": "bhvbS0aJ4VLP",
    "outputId": "e66450ac-0535-4fdf-d71d-57ad96a8312e"
   },
   "outputs": [],
   "source": [
    "# from google.colab import drive\n",
    "# drive.mount('/content/drive')"
   ]
  },
  {
   "cell_type": "code",
   "execution_count": null,
   "id": "660b5f4e",
   "metadata": {
    "executionInfo": {
     "elapsed": 5,
     "status": "ok",
     "timestamp": 1722430056509,
     "user": {
      "displayName": "samy",
      "userId": "15936932194482825472"
     },
     "user_tz": -330
    },
    "id": "660b5f4e"
   },
   "outputs": [],
   "source": [
    "#For a patato plant there can be 3 types of classification:\n",
    "#1. Healthy\n",
    "#2. Early Blight(Fungus)\n",
    "#3. Late Blight(Micro Organism)"
   ]
  },
  {
   "cell_type": "code",
   "execution_count": null,
   "id": "9092d854",
   "metadata": {
    "executionInfo": {
     "elapsed": 648,
     "status": "ok",
     "timestamp": 1722430064709,
     "user": {
      "displayName": "samy",
      "userId": "15936932194482825472"
     },
     "user_tz": -330
    },
    "id": "9092d854"
   },
   "outputs": [],
   "source": [
    "#Procedure:\n",
    "#Data Cleaning and preprocessing(dataset and data augmentation) --> Model Building(CNN) --> server(With services and APIs service) --> Website using ReactJS"
   ]
  },
  {
   "cell_type": "markdown",
   "id": "633d26df",
   "metadata": {
    "id": "633d26df"
   },
   "source": [
    " # DATA COLLECTION and PREPROCESSING"
   ]
  },
  {
   "cell_type": "code",
   "execution_count": null,
   "id": "9d414791",
   "metadata": {
    "executionInfo": {
     "elapsed": 3,
     "status": "ok",
     "timestamp": 1722430065154,
     "user": {
      "displayName": "samy",
      "userId": "15936932194482825472"
     },
     "user_tz": -330
    },
    "id": "9d414791"
   },
   "outputs": [],
   "source": [
    "IMAGE_SIZE = 256"
   ]
  },
  {
   "cell_type": "code",
   "execution_count": null,
   "id": "e8e34179",
   "metadata": {
    "executionInfo": {
     "elapsed": 4,
     "status": "ok",
     "timestamp": 1722430065644,
     "user": {
      "displayName": "samy",
      "userId": "15936932194482825472"
     },
     "user_tz": -330
    },
    "id": "e8e34179"
   },
   "outputs": [],
   "source": [
    "BATCH_SIZE = 32\n",
    "Channels = 3\n",
    "Epochs = 10"
   ]
  },
  {
   "cell_type": "code",
   "execution_count": null,
   "id": "b300f0c0",
   "metadata": {
    "colab": {
     "base_uri": "https://localhost:8080/"
    },
    "executionInfo": {
     "elapsed": 28610,
     "status": "ok",
     "timestamp": 1722430094850,
     "user": {
      "displayName": "samy",
      "userId": "15936932194482825472"
     },
     "user_tz": -330
    },
    "id": "b300f0c0",
    "outputId": "c52fad3b-59d8-4f34-b11e-738da0ad2478"
   },
   "outputs": [],
   "source": [
    "Dataset = tf.keras.preprocessing.image_dataset_from_directory(\n",
    "    \"Try\",\n",
    "    shuffle=True,\n",
    "    image_size=(IMAGE_SIZE, IMAGE_SIZE),\n",
    "    batch_size = BATCH_SIZE\n",
    ")"
   ]
  },
  {
   "cell_type": "code",
   "execution_count": null,
   "id": "e8500f9f",
   "metadata": {
    "colab": {
     "base_uri": "https://localhost:8080/"
    },
    "executionInfo": {
     "elapsed": 12,
     "status": "ok",
     "timestamp": 1722430094850,
     "user": {
      "displayName": "samy",
      "userId": "15936932194482825472"
     },
     "user_tz": -330
    },
    "id": "e8500f9f",
    "outputId": "3e44182d-7c05-4d80-d874-e806f7d6c152"
   },
   "outputs": [],
   "source": [
    "class_names = Dataset.class_names\n",
    "class_names"
   ]
  },
  {
   "cell_type": "code",
   "execution_count": null,
   "id": "5432451e",
   "metadata": {
    "colab": {
     "base_uri": "https://localhost:8080/"
    },
    "executionInfo": {
     "elapsed": 9,
     "status": "ok",
     "timestamp": 1722430094850,
     "user": {
      "displayName": "samy",
      "userId": "15936932194482825472"
     },
     "user_tz": -330
    },
    "id": "5432451e",
    "outputId": "8b076a44-1d9a-43e4-ceda-ac570c8ae227"
   },
   "outputs": [],
   "source": [
    "len(Dataset) # 32 batch size * 145 batches = 4640"
   ]
  },
  {
   "cell_type": "code",
   "execution_count": null,
   "id": "b036f838",
   "metadata": {
    "colab": {
     "base_uri": "https://localhost:8080/"
    },
    "executionInfo": {
     "elapsed": 29563,
     "status": "ok",
     "timestamp": 1722430124407,
     "user": {
      "displayName": "samy",
      "userId": "15936932194482825472"
     },
     "user_tz": -330
    },
    "id": "b036f838",
    "outputId": "215d6300-8c26-4ca9-916c-dc3146d787fb"
   },
   "outputs": [],
   "source": [
    "for image_batch, label_batch in Dataset.take(1):\n",
    "    print(image_batch.shape)\n",
    "    print(label_batch.numpy())"
   ]
  },
  {
   "cell_type": "code",
   "execution_count": null,
   "id": "1cdf5aaf",
   "metadata": {
    "colab": {
     "base_uri": "https://localhost:8080/",
     "height": 1000,
     "output_embedded_package_id": "10Le2DBoPd_HAJ1nc_0_QOpahy2UYkGEW"
    },
    "executionInfo": {
     "elapsed": 4982,
     "status": "ok",
     "timestamp": 1722430129386,
     "user": {
      "displayName": "samy",
      "userId": "15936932194482825472"
     },
     "user_tz": -330
    },
    "id": "1cdf5aaf",
    "outputId": "bcec64b8-f799-4322-b6b7-0f6f793e4c29",
    "scrolled": true
   },
   "outputs": [],
   "source": [
    "plt.figure(figsize=(15,15))\n",
    "for image_batch, label_batch in Dataset.take(1):\n",
    "    for i in range(30):\n",
    "        ax = plt.subplot(6, 5, i+1)\n",
    "        plt.imshow(image_batch[i].numpy().astype('uint8'))\n",
    "        plt.title(class_names[label_batch[i]])\n",
    "        plt.axis(\"off\")"
   ]
  },
  {
   "cell_type": "code",
   "execution_count": null,
   "id": "45f7489d",
   "metadata": {
    "colab": {
     "base_uri": "https://localhost:8080/"
    },
    "executionInfo": {
     "elapsed": 19,
     "status": "ok",
     "timestamp": 1722430129386,
     "user": {
      "displayName": "samy",
      "userId": "15936932194482825472"
     },
     "user_tz": -330
    },
    "id": "45f7489d",
    "outputId": "f5953c2b-d26b-47e3-f289-5c09f3d4230b"
   },
   "outputs": [],
   "source": [
    "train_size = 0.8\n",
    "len(Dataset)*train_size"
   ]
  },
  {
   "cell_type": "code",
   "execution_count": null,
   "id": "a96bbd8e",
   "metadata": {
    "colab": {
     "base_uri": "https://localhost:8080/"
    },
    "executionInfo": {
     "elapsed": 17,
     "status": "ok",
     "timestamp": 1722430129386,
     "user": {
      "displayName": "samy",
      "userId": "15936932194482825472"
     },
     "user_tz": -330
    },
    "id": "a96bbd8e",
    "outputId": "abe01ea1-15d1-47c6-b6c6-2c56a19ce531"
   },
   "outputs": [],
   "source": [
    "train_ds = Dataset.take(516)\n",
    "len(train_ds)"
   ]
  },
  {
   "cell_type": "code",
   "execution_count": null,
   "id": "ed90af67",
   "metadata": {
    "colab": {
     "base_uri": "https://localhost:8080/"
    },
    "executionInfo": {
     "elapsed": 15,
     "status": "ok",
     "timestamp": 1722430129386,
     "user": {
      "displayName": "samy",
      "userId": "15936932194482825472"
     },
     "user_tz": -330
    },
    "id": "ed90af67",
    "outputId": "9376f141-b843-4e60-aec9-41ef02083efc"
   },
   "outputs": [],
   "source": [
    "test_ds = Dataset.skip(516)\n",
    "len(test_ds)"
   ]
  },
  {
   "cell_type": "code",
   "execution_count": null,
   "id": "7a575e2a",
   "metadata": {
    "colab": {
     "base_uri": "https://localhost:8080/"
    },
    "executionInfo": {
     "elapsed": 15,
     "status": "ok",
     "timestamp": 1722430129387,
     "user": {
      "displayName": "samy",
      "userId": "15936932194482825472"
     },
     "user_tz": -330
    },
    "id": "7a575e2a",
    "outputId": "a7d2df89-1f71-4805-e82d-c84ba6bbbf1a"
   },
   "outputs": [],
   "source": [
    "val_size = 0.1\n",
    "len(Dataset)*val_size"
   ]
  },
  {
   "cell_type": "code",
   "execution_count": null,
   "id": "fd7f979d",
   "metadata": {
    "colab": {
     "base_uri": "https://localhost:8080/"
    },
    "executionInfo": {
     "elapsed": 14,
     "status": "ok",
     "timestamp": 1722430129387,
     "user": {
      "displayName": "samy",
      "userId": "15936932194482825472"
     },
     "user_tz": -330
    },
    "id": "fd7f979d",
    "outputId": "64789f42-a369-441c-c525-fcb8afc47da5"
   },
   "outputs": [],
   "source": [
    "val_ds = test_ds.take(64)\n",
    "len(val_ds)"
   ]
  },
  {
   "cell_type": "code",
   "execution_count": null,
   "id": "6b4490c4",
   "metadata": {
    "colab": {
     "base_uri": "https://localhost:8080/"
    },
    "executionInfo": {
     "elapsed": 13,
     "status": "ok",
     "timestamp": 1722430129387,
     "user": {
      "displayName": "samy",
      "userId": "15936932194482825472"
     },
     "user_tz": -330
    },
    "id": "6b4490c4",
    "outputId": "c93d5289-0291-4d1c-eb9a-a3b0e1aa398a"
   },
   "outputs": [],
   "source": [
    "test_ds = test_ds.skip(64)\n",
    "len(test_ds)"
   ]
  },
  {
   "cell_type": "code",
   "execution_count": null,
   "id": "e509defe",
   "metadata": {
    "executionInfo": {
     "elapsed": 12,
     "status": "ok",
     "timestamp": 1722430129387,
     "user": {
      "displayName": "samy",
      "userId": "15936932194482825472"
     },
     "user_tz": -330
    },
    "id": "e509defe"
   },
   "outputs": [],
   "source": [
    "def get_dataset_partition(ds, train_split=0.8, val_split=0.1, test_split=0.1, shuffle=True, shuffle_size=10000):\n",
    "\n",
    "    ds_size = len(ds)\n",
    "    if shuffle:\n",
    "        ds = ds.shuffle(shuffle_size, seed = 12)\n",
    "\n",
    "    train_size = int(train_split * ds_size)\n",
    "    val_size = int(val_split * ds_size)\n",
    "    test_size = int(test_split * ds_size)\n",
    "\n",
    "    train_ds = ds.take(train_size)\n",
    "    val_ds = ds.skip(train_size).take(val_size)\n",
    "    test_ds = ds.skip(train_size).skip(val_size)\n",
    "\n",
    "    return train_ds, val_ds, test_ds"
   ]
  },
  {
   "cell_type": "code",
   "execution_count": null,
   "id": "8d619b67",
   "metadata": {
    "executionInfo": {
     "elapsed": 12,
     "status": "ok",
     "timestamp": 1722430129387,
     "user": {
      "displayName": "samy",
      "userId": "15936932194482825472"
     },
     "user_tz": -330
    },
    "id": "8d619b67"
   },
   "outputs": [],
   "source": [
    "train_ds, val_ds, test_ds = get_dataset_partition(Dataset)"
   ]
  },
  {
   "cell_type": "code",
   "execution_count": null,
   "id": "03ca2824",
   "metadata": {
    "colab": {
     "base_uri": "https://localhost:8080/"
    },
    "executionInfo": {
     "elapsed": 12,
     "status": "ok",
     "timestamp": 1722430129388,
     "user": {
      "displayName": "samy",
      "userId": "15936932194482825472"
     },
     "user_tz": -330
    },
    "id": "03ca2824",
    "outputId": "417c773c-4063-4512-8e1a-6c03c05e334f"
   },
   "outputs": [],
   "source": [
    "len(train_ds)"
   ]
  },
  {
   "cell_type": "code",
   "execution_count": null,
   "id": "16eef31f",
   "metadata": {
    "colab": {
     "base_uri": "https://localhost:8080/"
    },
    "executionInfo": {
     "elapsed": 11,
     "status": "ok",
     "timestamp": 1722430129388,
     "user": {
      "displayName": "samy",
      "userId": "15936932194482825472"
     },
     "user_tz": -330
    },
    "id": "16eef31f",
    "outputId": "572f075f-94c1-4599-e623-b0b7fb35011e"
   },
   "outputs": [],
   "source": [
    "len(val_ds)"
   ]
  },
  {
   "cell_type": "code",
   "execution_count": null,
   "id": "fb942862",
   "metadata": {
    "colab": {
     "base_uri": "https://localhost:8080/"
    },
    "executionInfo": {
     "elapsed": 10,
     "status": "ok",
     "timestamp": 1722430129388,
     "user": {
      "displayName": "samy",
      "userId": "15936932194482825472"
     },
     "user_tz": -330
    },
    "id": "fb942862",
    "outputId": "769f0751-a088-499f-d19d-69bf72241b11"
   },
   "outputs": [],
   "source": [
    "len(test_ds)"
   ]
  },
  {
   "cell_type": "markdown",
   "id": "d96cc75a",
   "metadata": {
    "id": "d96cc75a"
   },
   "source": [
    "# Model Building"
   ]
  },
  {
   "cell_type": "code",
   "execution_count": null,
   "id": "504a7548",
   "metadata": {
    "executionInfo": {
     "elapsed": 9,
     "status": "ok",
     "timestamp": 1722430129388,
     "user": {
      "displayName": "samy",
      "userId": "15936932194482825472"
     },
     "user_tz": -330
    },
    "id": "504a7548"
   },
   "outputs": [],
   "source": [
    "train_ds = train_ds.cache().shuffle(1000).prefetch(buffer_size = tf.data.AUTOTUNE)\n",
    "val_ds = val_ds.cache().shuffle(1000).prefetch(buffer_size = tf.data.AUTOTUNE)\n",
    "test_ds = test_ds.cache().shuffle(1000).prefetch(buffer_size = tf.data.AUTOTUNE)"
   ]
  },
  {
   "cell_type": "code",
   "execution_count": null,
   "id": "4e0b2064",
   "metadata": {
    "executionInfo": {
     "elapsed": 9,
     "status": "ok",
     "timestamp": 1722430129388,
     "user": {
      "displayName": "samy",
      "userId": "15936932194482825472"
     },
     "user_tz": -330
    },
    "id": "4e0b2064"
   },
   "outputs": [],
   "source": [
    "resize_rescale = tf.keras.Sequential([\n",
    "    layers.experimental.preprocessing.Resizing(IMAGE_SIZE,IMAGE_SIZE),   # if any image provided is not 256X256\n",
    "    layers.experimental.preprocessing.Rescaling(1.0/255)        # rescaling the images to [0,1] by dividing by 256\n",
    "])"
   ]
  },
  {
   "cell_type": "code",
   "execution_count": null,
   "id": "f8d53a00",
   "metadata": {
    "executionInfo": {
     "elapsed": 9,
     "status": "ok",
     "timestamp": 1722430129388,
     "user": {
      "displayName": "samy",
      "userId": "15936932194482825472"
     },
     "user_tz": -330
    },
    "id": "f8d53a00"
   },
   "outputs": [],
   "source": [
    "data_aug = tf.keras.Sequential([\n",
    "    layers.experimental.preprocessing.RandomFlip('horizontal_and_vertical'),\n",
    "    layers.experimental.preprocessing.RandomRotation(0.2)\n",
    "])"
   ]
  },
  {
   "cell_type": "code",
   "execution_count": null,
   "id": "5c48912c",
   "metadata": {
    "executionInfo": {
     "elapsed": 716,
     "status": "ok",
     "timestamp": 1722430130095,
     "user": {
      "displayName": "samy",
      "userId": "15936932194482825472"
     },
     "user_tz": -330
    },
    "id": "5c48912c"
   },
   "outputs": [],
   "source": [
    "input_shape = (BATCH_SIZE, IMAGE_SIZE, IMAGE_SIZE, Channels)\n",
    "n_classes = 15\n",
    "\n",
    "model = models.Sequential([\n",
    "    resize_rescale,\n",
    "    data_aug,\n",
    "\n",
    "    # Block 1\n",
    "    layers.Conv2D(64, (3, 3), activation='relu', padding='same', input_shape=input_shape),\n",
    "    layers.Conv2D(64, (3, 3), activation='relu', padding='same'),\n",
    "    layers.MaxPooling2D((2, 2), strides=(2, 2)),\n",
    "\n",
    "    # Block 2\n",
    "    layers.Conv2D(128, (3, 3), activation='relu', padding='same'),\n",
    "    layers.Conv2D(128, (3, 3), activation='relu', padding='same'),\n",
    "    layers.MaxPooling2D((2, 2), strides=(2, 2)),\n",
    "\n",
    "    # Block 3\n",
    "    layers.Conv2D(256, (3, 3), activation='relu', padding='same'),\n",
    "    layers.Conv2D(256, (3, 3), activation='relu', padding='same'),\n",
    "    layers.Conv2D(256, (3, 3), activation='relu', padding='same'),\n",
    "    layers.MaxPooling2D((2, 2), strides=(2, 2)),\n",
    "\n",
    "    # Block 4\n",
    "    layers.Conv2D(512, (3, 3), activation='relu', padding='same'),\n",
    "    layers.Conv2D(512, (3, 3), activation='relu', padding='same'),\n",
    "    layers.Conv2D(512, (3, 3), activation='relu', padding='same'),\n",
    "    layers.MaxPooling2D((2, 2), strides=(2, 2)),\n",
    "\n",
    "    # Block 5\n",
    "    layers.Conv2D(512, (3, 3), activation='relu', padding='same'),\n",
    "    layers.Conv2D(512, (3, 3), activation='relu', padding='same'),\n",
    "    layers.Conv2D(512, (3, 3), activation='relu', padding='same'),\n",
    "    layers.MaxPooling2D((2, 2), strides=(2, 2)),\n",
    "\n",
    "    # Classification block\n",
    "    layers.Flatten(),\n",
    "    layers.Dense(4096, activation='relu'),\n",
    "    layers.Dense(4096, activation='relu'),\n",
    "    layers.Dense(n_classes, activation='softmax')\n",
    "])\n",
    "\n",
    "model.build(input_shape=input_shape)\n",
    "model.summary()"
   ]
  },
  {
   "cell_type": "code",
   "execution_count": null,
   "id": "6562e7f2",
   "metadata": {
    "colab": {
     "base_uri": "https://localhost:8080/"
    },
    "executionInfo": {
     "elapsed": 13,
     "status": "ok",
     "timestamp": 1722430130095,
     "user": {
      "displayName": "samy",
      "userId": "15936932194482825472"
     },
     "user_tz": -330
    },
    "id": "6562e7f2",
    "outputId": "c2cad6d1-022e-4411-bc21-b38056f613d5"
   },
   "outputs": [],
   "source": [
    "model.summary()"
   ]
  },
  {
   "cell_type": "code",
   "execution_count": null,
   "id": "bc915c00",
   "metadata": {
    "executionInfo": {
     "elapsed": 6,
     "status": "ok",
     "timestamp": 1722430130096,
     "user": {
      "displayName": "samy",
      "userId": "15936932194482825472"
     },
     "user_tz": -330
    },
    "id": "bc915c00"
   },
   "outputs": [],
   "source": [
    "model.compile(\n",
    "    optimizer='adam',\n",
    "    loss = tf.keras.losses.SparseCategoricalCrossentropy(from_logits=False),\n",
    "    metrics = ['accuracy']\n",
    ")"
   ]
  },
  {
   "cell_type": "code",
   "execution_count": 31,
   "id": "bdcd1d1c",
   "metadata": {
    "colab": {
     "base_uri": "https://localhost:8080/"
    },
    "executionInfo": {
     "elapsed": 3499053,
     "status": "ok",
     "timestamp": 1722433629143,
     "user": {
      "displayName": "samy",
      "userId": "15936932194482825472"
     },
     "user_tz": -330
    },
    "id": "bdcd1d1c",
    "outputId": "fae9af60-24a8-4f23-c7b5-fb15044a1d31",
    "scrolled": true
   },
   "outputs": [
    {
     "name": "stdout",
     "output_type": "stream",
     "text": [
      "Epoch 1/10\n",
      "  2/516 [..............................] - ETA: 4:25:05 - loss: 2.7141 - accuracy: 0.0625 "
     ]
    },
    {
     "ename": "KeyboardInterrupt",
     "evalue": "",
     "output_type": "error",
     "traceback": [
      "\u001b[1;31m---------------------------------------------------------------------------\u001b[0m",
      "\u001b[1;31mKeyboardInterrupt\u001b[0m                         Traceback (most recent call last)",
      "Cell \u001b[1;32mIn[31], line 1\u001b[0m\n\u001b[1;32m----> 1\u001b[0m history \u001b[38;5;241m=\u001b[39m model\u001b[38;5;241m.\u001b[39mfit(\n\u001b[0;32m      2\u001b[0m         train_ds,\n\u001b[0;32m      3\u001b[0m     epochs\u001b[38;5;241m=\u001b[39m Epochs,\n\u001b[0;32m      4\u001b[0m     batch_size\u001b[38;5;241m=\u001b[39mBATCH_SIZE,\n\u001b[0;32m      5\u001b[0m     verbose \u001b[38;5;241m=\u001b[39m \u001b[38;5;241m1\u001b[39m,\n\u001b[0;32m      6\u001b[0m     validation_data\u001b[38;5;241m=\u001b[39mval_ds\n\u001b[0;32m      7\u001b[0m )\n",
      "File \u001b[1;32mD:\\Anaconda\\Lib\\site-packages\\keras\\src\\utils\\traceback_utils.py:65\u001b[0m, in \u001b[0;36mfilter_traceback.<locals>.error_handler\u001b[1;34m(*args, **kwargs)\u001b[0m\n\u001b[0;32m     63\u001b[0m filtered_tb \u001b[38;5;241m=\u001b[39m \u001b[38;5;28;01mNone\u001b[39;00m\n\u001b[0;32m     64\u001b[0m \u001b[38;5;28;01mtry\u001b[39;00m:\n\u001b[1;32m---> 65\u001b[0m     \u001b[38;5;28;01mreturn\u001b[39;00m fn(\u001b[38;5;241m*\u001b[39margs, \u001b[38;5;241m*\u001b[39m\u001b[38;5;241m*\u001b[39mkwargs)\n\u001b[0;32m     66\u001b[0m \u001b[38;5;28;01mexcept\u001b[39;00m \u001b[38;5;167;01mException\u001b[39;00m \u001b[38;5;28;01mas\u001b[39;00m e:\n\u001b[0;32m     67\u001b[0m     filtered_tb \u001b[38;5;241m=\u001b[39m _process_traceback_frames(e\u001b[38;5;241m.\u001b[39m__traceback__)\n",
      "File \u001b[1;32mD:\\Anaconda\\Lib\\site-packages\\keras\\src\\engine\\training.py:1742\u001b[0m, in \u001b[0;36mModel.fit\u001b[1;34m(self, x, y, batch_size, epochs, verbose, callbacks, validation_split, validation_data, shuffle, class_weight, sample_weight, initial_epoch, steps_per_epoch, validation_steps, validation_batch_size, validation_freq, max_queue_size, workers, use_multiprocessing)\u001b[0m\n\u001b[0;32m   1734\u001b[0m \u001b[38;5;28;01mwith\u001b[39;00m tf\u001b[38;5;241m.\u001b[39mprofiler\u001b[38;5;241m.\u001b[39mexperimental\u001b[38;5;241m.\u001b[39mTrace(\n\u001b[0;32m   1735\u001b[0m     \u001b[38;5;124m\"\u001b[39m\u001b[38;5;124mtrain\u001b[39m\u001b[38;5;124m\"\u001b[39m,\n\u001b[0;32m   1736\u001b[0m     epoch_num\u001b[38;5;241m=\u001b[39mepoch,\n\u001b[1;32m   (...)\u001b[0m\n\u001b[0;32m   1739\u001b[0m     _r\u001b[38;5;241m=\u001b[39m\u001b[38;5;241m1\u001b[39m,\n\u001b[0;32m   1740\u001b[0m ):\n\u001b[0;32m   1741\u001b[0m     callbacks\u001b[38;5;241m.\u001b[39mon_train_batch_begin(step)\n\u001b[1;32m-> 1742\u001b[0m     tmp_logs \u001b[38;5;241m=\u001b[39m \u001b[38;5;28mself\u001b[39m\u001b[38;5;241m.\u001b[39mtrain_function(iterator)\n\u001b[0;32m   1743\u001b[0m     \u001b[38;5;28;01mif\u001b[39;00m data_handler\u001b[38;5;241m.\u001b[39mshould_sync:\n\u001b[0;32m   1744\u001b[0m         context\u001b[38;5;241m.\u001b[39masync_wait()\n",
      "File \u001b[1;32mD:\\Anaconda\\Lib\\site-packages\\tensorflow\\python\\util\\traceback_utils.py:150\u001b[0m, in \u001b[0;36mfilter_traceback.<locals>.error_handler\u001b[1;34m(*args, **kwargs)\u001b[0m\n\u001b[0;32m    148\u001b[0m filtered_tb \u001b[38;5;241m=\u001b[39m \u001b[38;5;28;01mNone\u001b[39;00m\n\u001b[0;32m    149\u001b[0m \u001b[38;5;28;01mtry\u001b[39;00m:\n\u001b[1;32m--> 150\u001b[0m   \u001b[38;5;28;01mreturn\u001b[39;00m fn(\u001b[38;5;241m*\u001b[39margs, \u001b[38;5;241m*\u001b[39m\u001b[38;5;241m*\u001b[39mkwargs)\n\u001b[0;32m    151\u001b[0m \u001b[38;5;28;01mexcept\u001b[39;00m \u001b[38;5;167;01mException\u001b[39;00m \u001b[38;5;28;01mas\u001b[39;00m e:\n\u001b[0;32m    152\u001b[0m   filtered_tb \u001b[38;5;241m=\u001b[39m _process_traceback_frames(e\u001b[38;5;241m.\u001b[39m__traceback__)\n",
      "File \u001b[1;32mD:\\Anaconda\\Lib\\site-packages\\tensorflow\\python\\eager\\polymorphic_function\\polymorphic_function.py:825\u001b[0m, in \u001b[0;36mFunction.__call__\u001b[1;34m(self, *args, **kwds)\u001b[0m\n\u001b[0;32m    822\u001b[0m compiler \u001b[38;5;241m=\u001b[39m \u001b[38;5;124m\"\u001b[39m\u001b[38;5;124mxla\u001b[39m\u001b[38;5;124m\"\u001b[39m \u001b[38;5;28;01mif\u001b[39;00m \u001b[38;5;28mself\u001b[39m\u001b[38;5;241m.\u001b[39m_jit_compile \u001b[38;5;28;01melse\u001b[39;00m \u001b[38;5;124m\"\u001b[39m\u001b[38;5;124mnonXla\u001b[39m\u001b[38;5;124m\"\u001b[39m\n\u001b[0;32m    824\u001b[0m \u001b[38;5;28;01mwith\u001b[39;00m OptionalXlaContext(\u001b[38;5;28mself\u001b[39m\u001b[38;5;241m.\u001b[39m_jit_compile):\n\u001b[1;32m--> 825\u001b[0m   result \u001b[38;5;241m=\u001b[39m \u001b[38;5;28mself\u001b[39m\u001b[38;5;241m.\u001b[39m_call(\u001b[38;5;241m*\u001b[39margs, \u001b[38;5;241m*\u001b[39m\u001b[38;5;241m*\u001b[39mkwds)\n\u001b[0;32m    827\u001b[0m new_tracing_count \u001b[38;5;241m=\u001b[39m \u001b[38;5;28mself\u001b[39m\u001b[38;5;241m.\u001b[39mexperimental_get_tracing_count()\n\u001b[0;32m    828\u001b[0m without_tracing \u001b[38;5;241m=\u001b[39m (tracing_count \u001b[38;5;241m==\u001b[39m new_tracing_count)\n",
      "File \u001b[1;32mD:\\Anaconda\\Lib\\site-packages\\tensorflow\\python\\eager\\polymorphic_function\\polymorphic_function.py:857\u001b[0m, in \u001b[0;36mFunction._call\u001b[1;34m(self, *args, **kwds)\u001b[0m\n\u001b[0;32m    854\u001b[0m   \u001b[38;5;28mself\u001b[39m\u001b[38;5;241m.\u001b[39m_lock\u001b[38;5;241m.\u001b[39mrelease()\n\u001b[0;32m    855\u001b[0m   \u001b[38;5;66;03m# In this case we have created variables on the first call, so we run the\u001b[39;00m\n\u001b[0;32m    856\u001b[0m   \u001b[38;5;66;03m# defunned version which is guaranteed to never create variables.\u001b[39;00m\n\u001b[1;32m--> 857\u001b[0m   \u001b[38;5;28;01mreturn\u001b[39;00m \u001b[38;5;28mself\u001b[39m\u001b[38;5;241m.\u001b[39m_no_variable_creation_fn(\u001b[38;5;241m*\u001b[39margs, \u001b[38;5;241m*\u001b[39m\u001b[38;5;241m*\u001b[39mkwds)  \u001b[38;5;66;03m# pylint: disable=not-callable\u001b[39;00m\n\u001b[0;32m    858\u001b[0m \u001b[38;5;28;01melif\u001b[39;00m \u001b[38;5;28mself\u001b[39m\u001b[38;5;241m.\u001b[39m_variable_creation_fn \u001b[38;5;129;01mis\u001b[39;00m \u001b[38;5;129;01mnot\u001b[39;00m \u001b[38;5;28;01mNone\u001b[39;00m:\n\u001b[0;32m    859\u001b[0m   \u001b[38;5;66;03m# Release the lock early so that multiple threads can perform the call\u001b[39;00m\n\u001b[0;32m    860\u001b[0m   \u001b[38;5;66;03m# in parallel.\u001b[39;00m\n\u001b[0;32m    861\u001b[0m   \u001b[38;5;28mself\u001b[39m\u001b[38;5;241m.\u001b[39m_lock\u001b[38;5;241m.\u001b[39mrelease()\n",
      "File \u001b[1;32mD:\\Anaconda\\Lib\\site-packages\\tensorflow\\python\\eager\\polymorphic_function\\tracing_compiler.py:148\u001b[0m, in \u001b[0;36mTracingCompiler.__call__\u001b[1;34m(self, *args, **kwargs)\u001b[0m\n\u001b[0;32m    145\u001b[0m \u001b[38;5;28;01mwith\u001b[39;00m \u001b[38;5;28mself\u001b[39m\u001b[38;5;241m.\u001b[39m_lock:\n\u001b[0;32m    146\u001b[0m   (concrete_function,\n\u001b[0;32m    147\u001b[0m    filtered_flat_args) \u001b[38;5;241m=\u001b[39m \u001b[38;5;28mself\u001b[39m\u001b[38;5;241m.\u001b[39m_maybe_define_function(args, kwargs)\n\u001b[1;32m--> 148\u001b[0m \u001b[38;5;28;01mreturn\u001b[39;00m concrete_function\u001b[38;5;241m.\u001b[39m_call_flat(\n\u001b[0;32m    149\u001b[0m     filtered_flat_args, captured_inputs\u001b[38;5;241m=\u001b[39mconcrete_function\u001b[38;5;241m.\u001b[39mcaptured_inputs)\n",
      "File \u001b[1;32mD:\\Anaconda\\Lib\\site-packages\\tensorflow\\python\\eager\\polymorphic_function\\monomorphic_function.py:1349\u001b[0m, in \u001b[0;36mConcreteFunction._call_flat\u001b[1;34m(self, args, captured_inputs)\u001b[0m\n\u001b[0;32m   1345\u001b[0m possible_gradient_type \u001b[38;5;241m=\u001b[39m gradients_util\u001b[38;5;241m.\u001b[39mPossibleTapeGradientTypes(args)\n\u001b[0;32m   1346\u001b[0m \u001b[38;5;28;01mif\u001b[39;00m (possible_gradient_type \u001b[38;5;241m==\u001b[39m gradients_util\u001b[38;5;241m.\u001b[39mPOSSIBLE_GRADIENT_TYPES_NONE\n\u001b[0;32m   1347\u001b[0m     \u001b[38;5;129;01mand\u001b[39;00m executing_eagerly):\n\u001b[0;32m   1348\u001b[0m   \u001b[38;5;66;03m# No tape is watching; skip to running the function.\u001b[39;00m\n\u001b[1;32m-> 1349\u001b[0m   \u001b[38;5;28;01mreturn\u001b[39;00m \u001b[38;5;28mself\u001b[39m\u001b[38;5;241m.\u001b[39m_build_call_outputs(\u001b[38;5;28mself\u001b[39m\u001b[38;5;241m.\u001b[39m_inference_function(\u001b[38;5;241m*\u001b[39margs))\n\u001b[0;32m   1350\u001b[0m forward_backward \u001b[38;5;241m=\u001b[39m \u001b[38;5;28mself\u001b[39m\u001b[38;5;241m.\u001b[39m_select_forward_and_backward_functions(\n\u001b[0;32m   1351\u001b[0m     args,\n\u001b[0;32m   1352\u001b[0m     possible_gradient_type,\n\u001b[0;32m   1353\u001b[0m     executing_eagerly)\n\u001b[0;32m   1354\u001b[0m forward_function, args_with_tangents \u001b[38;5;241m=\u001b[39m forward_backward\u001b[38;5;241m.\u001b[39mforward()\n",
      "File \u001b[1;32mD:\\Anaconda\\Lib\\site-packages\\tensorflow\\python\\eager\\polymorphic_function\\atomic_function.py:196\u001b[0m, in \u001b[0;36mAtomicFunction.__call__\u001b[1;34m(self, *args)\u001b[0m\n\u001b[0;32m    194\u001b[0m \u001b[38;5;28;01mwith\u001b[39;00m record\u001b[38;5;241m.\u001b[39mstop_recording():\n\u001b[0;32m    195\u001b[0m   \u001b[38;5;28;01mif\u001b[39;00m \u001b[38;5;28mself\u001b[39m\u001b[38;5;241m.\u001b[39m_bound_context\u001b[38;5;241m.\u001b[39mexecuting_eagerly():\n\u001b[1;32m--> 196\u001b[0m     outputs \u001b[38;5;241m=\u001b[39m \u001b[38;5;28mself\u001b[39m\u001b[38;5;241m.\u001b[39m_bound_context\u001b[38;5;241m.\u001b[39mcall_function(\n\u001b[0;32m    197\u001b[0m         \u001b[38;5;28mself\u001b[39m\u001b[38;5;241m.\u001b[39mname,\n\u001b[0;32m    198\u001b[0m         \u001b[38;5;28mlist\u001b[39m(args),\n\u001b[0;32m    199\u001b[0m         \u001b[38;5;28mlen\u001b[39m(\u001b[38;5;28mself\u001b[39m\u001b[38;5;241m.\u001b[39mfunction_type\u001b[38;5;241m.\u001b[39mflat_outputs),\n\u001b[0;32m    200\u001b[0m     )\n\u001b[0;32m    201\u001b[0m   \u001b[38;5;28;01melse\u001b[39;00m:\n\u001b[0;32m    202\u001b[0m     outputs \u001b[38;5;241m=\u001b[39m make_call_op_in_graph(\u001b[38;5;28mself\u001b[39m, \u001b[38;5;28mlist\u001b[39m(args))\n",
      "File \u001b[1;32mD:\\Anaconda\\Lib\\site-packages\\tensorflow\\python\\eager\\context.py:1457\u001b[0m, in \u001b[0;36mContext.call_function\u001b[1;34m(self, name, tensor_inputs, num_outputs)\u001b[0m\n\u001b[0;32m   1455\u001b[0m cancellation_context \u001b[38;5;241m=\u001b[39m cancellation\u001b[38;5;241m.\u001b[39mcontext()\n\u001b[0;32m   1456\u001b[0m \u001b[38;5;28;01mif\u001b[39;00m cancellation_context \u001b[38;5;129;01mis\u001b[39;00m \u001b[38;5;28;01mNone\u001b[39;00m:\n\u001b[1;32m-> 1457\u001b[0m   outputs \u001b[38;5;241m=\u001b[39m execute\u001b[38;5;241m.\u001b[39mexecute(\n\u001b[0;32m   1458\u001b[0m       name\u001b[38;5;241m.\u001b[39mdecode(\u001b[38;5;124m\"\u001b[39m\u001b[38;5;124mutf-8\u001b[39m\u001b[38;5;124m\"\u001b[39m),\n\u001b[0;32m   1459\u001b[0m       num_outputs\u001b[38;5;241m=\u001b[39mnum_outputs,\n\u001b[0;32m   1460\u001b[0m       inputs\u001b[38;5;241m=\u001b[39mtensor_inputs,\n\u001b[0;32m   1461\u001b[0m       attrs\u001b[38;5;241m=\u001b[39mattrs,\n\u001b[0;32m   1462\u001b[0m       ctx\u001b[38;5;241m=\u001b[39m\u001b[38;5;28mself\u001b[39m,\n\u001b[0;32m   1463\u001b[0m   )\n\u001b[0;32m   1464\u001b[0m \u001b[38;5;28;01melse\u001b[39;00m:\n\u001b[0;32m   1465\u001b[0m   outputs \u001b[38;5;241m=\u001b[39m execute\u001b[38;5;241m.\u001b[39mexecute_with_cancellation(\n\u001b[0;32m   1466\u001b[0m       name\u001b[38;5;241m.\u001b[39mdecode(\u001b[38;5;124m\"\u001b[39m\u001b[38;5;124mutf-8\u001b[39m\u001b[38;5;124m\"\u001b[39m),\n\u001b[0;32m   1467\u001b[0m       num_outputs\u001b[38;5;241m=\u001b[39mnum_outputs,\n\u001b[1;32m   (...)\u001b[0m\n\u001b[0;32m   1471\u001b[0m       cancellation_manager\u001b[38;5;241m=\u001b[39mcancellation_context,\n\u001b[0;32m   1472\u001b[0m   )\n",
      "File \u001b[1;32mD:\\Anaconda\\Lib\\site-packages\\tensorflow\\python\\eager\\execute.py:53\u001b[0m, in \u001b[0;36mquick_execute\u001b[1;34m(op_name, num_outputs, inputs, attrs, ctx, name)\u001b[0m\n\u001b[0;32m     51\u001b[0m \u001b[38;5;28;01mtry\u001b[39;00m:\n\u001b[0;32m     52\u001b[0m   ctx\u001b[38;5;241m.\u001b[39mensure_initialized()\n\u001b[1;32m---> 53\u001b[0m   tensors \u001b[38;5;241m=\u001b[39m pywrap_tfe\u001b[38;5;241m.\u001b[39mTFE_Py_Execute(ctx\u001b[38;5;241m.\u001b[39m_handle, device_name, op_name,\n\u001b[0;32m     54\u001b[0m                                       inputs, attrs, num_outputs)\n\u001b[0;32m     55\u001b[0m \u001b[38;5;28;01mexcept\u001b[39;00m core\u001b[38;5;241m.\u001b[39m_NotOkStatusException \u001b[38;5;28;01mas\u001b[39;00m e:\n\u001b[0;32m     56\u001b[0m   \u001b[38;5;28;01mif\u001b[39;00m name \u001b[38;5;129;01mis\u001b[39;00m \u001b[38;5;129;01mnot\u001b[39;00m \u001b[38;5;28;01mNone\u001b[39;00m:\n",
      "\u001b[1;31mKeyboardInterrupt\u001b[0m: "
     ]
    }
   ],
   "source": [
    "history = model.fit(\n",
    "        train_ds,\n",
    "    epochs= Epochs,\n",
    "    batch_size=BATCH_SIZE,\n",
    "    verbose = 1,\n",
    "    validation_data=val_ds\n",
    ")"
   ]
  },
  {
   "cell_type": "code",
   "execution_count": null,
   "id": "be44d5ac",
   "metadata": {
    "colab": {
     "base_uri": "https://localhost:8080/"
    },
    "executionInfo": {
     "elapsed": 49102,
     "status": "ok",
     "timestamp": 1722433678235,
     "user": {
      "displayName": "samy",
      "userId": "15936932194482825472"
     },
     "user_tz": -330
    },
    "id": "be44d5ac",
    "outputId": "e7169b56-12fd-4680-d82d-ed92ae996b64"
   },
   "outputs": [],
   "source": [
    "scores = model.evaluate(test_ds)"
   ]
  },
  {
   "cell_type": "code",
   "execution_count": null,
   "id": "ab04bbca",
   "metadata": {
    "colab": {
     "base_uri": "https://localhost:8080/"
    },
    "executionInfo": {
     "elapsed": 73,
     "status": "ok",
     "timestamp": 1722433678236,
     "user": {
      "displayName": "samy",
      "userId": "15936932194482825472"
     },
     "user_tz": -330
    },
    "id": "ab04bbca",
    "outputId": "e7d1c438-0acd-4ca9-9828-df61a88162fe"
   },
   "outputs": [],
   "source": [
    "scores"
   ]
  },
  {
   "cell_type": "code",
   "execution_count": null,
   "id": "c5dcd321",
   "metadata": {
    "colab": {
     "base_uri": "https://localhost:8080/"
    },
    "executionInfo": {
     "elapsed": 67,
     "status": "ok",
     "timestamp": 1722433678236,
     "user": {
      "displayName": "samy",
      "userId": "15936932194482825472"
     },
     "user_tz": -330
    },
    "id": "c5dcd321",
    "outputId": "b0e78b17-0702-4878-fca9-84e8ab29f677"
   },
   "outputs": [],
   "source": [
    "history"
   ]
  },
  {
   "cell_type": "code",
   "execution_count": null,
   "id": "ce8f3e8f",
   "metadata": {
    "colab": {
     "base_uri": "https://localhost:8080/"
    },
    "executionInfo": {
     "elapsed": 63,
     "status": "ok",
     "timestamp": 1722433678236,
     "user": {
      "displayName": "samy",
      "userId": "15936932194482825472"
     },
     "user_tz": -330
    },
    "id": "ce8f3e8f",
    "outputId": "281f349f-a71b-47cc-ac5a-b0bcfd203db0"
   },
   "outputs": [],
   "source": [
    "history.params"
   ]
  },
  {
   "cell_type": "code",
   "execution_count": null,
   "id": "063ca290",
   "metadata": {
    "colab": {
     "base_uri": "https://localhost:8080/"
    },
    "executionInfo": {
     "elapsed": 59,
     "status": "ok",
     "timestamp": 1722433678236,
     "user": {
      "displayName": "samy",
      "userId": "15936932194482825472"
     },
     "user_tz": -330
    },
    "id": "063ca290",
    "outputId": "a03ffac0-e6f4-46fe-d73c-deee2a79e622"
   },
   "outputs": [],
   "source": [
    "history.history.keys()"
   ]
  },
  {
   "cell_type": "code",
   "execution_count": null,
   "id": "39dbb7ab",
   "metadata": {
    "executionInfo": {
     "elapsed": 54,
     "status": "ok",
     "timestamp": 1722433678236,
     "user": {
      "displayName": "samy",
      "userId": "15936932194482825472"
     },
     "user_tz": -330
    },
    "id": "39dbb7ab"
   },
   "outputs": [],
   "source": [
    "acc = history.history['accuracy']\n",
    "val_acc = history.history['val_accuracy']\n",
    "\n",
    "loss = history.history['loss']\n",
    "val_loss = history.history['val_loss']"
   ]
  },
  {
   "cell_type": "code",
   "execution_count": null,
   "id": "808a762c",
   "metadata": {
    "colab": {
     "base_uri": "https://localhost:8080/",
     "height": 717
    },
    "executionInfo": {
     "elapsed": 53,
     "status": "ok",
     "timestamp": 1722433678236,
     "user": {
      "displayName": "samy",
      "userId": "15936932194482825472"
     },
     "user_tz": -330
    },
    "id": "808a762c",
    "outputId": "6abf239c-f703-42f8-b947-fd2534be7fe3",
    "scrolled": false
   },
   "outputs": [],
   "source": [
    "plt.figure(figsize = (20,8))\n",
    "plt.subplot(1,2,1)\n",
    "plt.plot(range(Epochs), acc, label='Training Accuracy')\n",
    "plt.plot(range(Epochs), val_acc, label='Validation Accuracy')\n",
    "\n",
    "plt.legend(loc='lower right')\n",
    "plt.title('Training and Validation Accuracy')"
   ]
  },
  {
   "cell_type": "code",
   "execution_count": null,
   "id": "3ac5290f",
   "metadata": {
    "executionInfo": {
     "elapsed": 12,
     "status": "ok",
     "timestamp": 1722433678237,
     "user": {
      "displayName": "samy",
      "userId": "15936932194482825472"
     },
     "user_tz": -330
    },
    "id": "3ac5290f"
   },
   "outputs": [],
   "source": []
  },
  {
   "cell_type": "code",
   "execution_count": null,
   "id": "856c5e61",
   "metadata": {
    "colab": {
     "base_uri": "https://localhost:8080/",
     "height": 580
    },
    "executionInfo": {
     "elapsed": 2124,
     "status": "ok",
     "timestamp": 1722433680350,
     "user": {
      "displayName": "samy",
      "userId": "15936932194482825472"
     },
     "user_tz": -330
    },
    "id": "856c5e61",
    "outputId": "2516b5b5-36be-41b9-ca1b-34de3d9711c9",
    "scrolled": false
   },
   "outputs": [],
   "source": [
    "for image_batch_batch, label_batch in test_ds.take(2):\n",
    "    first_image = image_batch[5].numpy().astype('uint8')\n",
    "    first_label = label_batch[5].numpy()\n",
    "\n",
    "    print(\"first image to predict\")\n",
    "    plt.imshow(first_image)\n",
    "    print(\"first image's actual label : \", class_names[first_label])\n",
    "\n",
    "    batch_prediction = model.predict(image_batch)\n",
    "    print(\"predicted label: \",class_names[np.argmax(batch_prediction[0])])"
   ]
  },
  {
   "cell_type": "code",
   "execution_count": null,
   "id": "fb107413",
   "metadata": {
    "executionInfo": {
     "elapsed": 17,
     "status": "ok",
     "timestamp": 1722433680352,
     "user": {
      "displayName": "samy",
      "userId": "15936932194482825472"
     },
     "user_tz": -330
    },
    "id": "fb107413"
   },
   "outputs": [],
   "source": [
    "def predict(model, img):\n",
    "    img_array = tf.keras.preprocessing.image.img_to_array(images[i].numpy())\n",
    "    img_array = tf.expand_dims(img_array,0) # Batch Creation\n",
    "\n",
    "    predictions = model.predict(img_array)\n",
    "\n",
    "    predicted_class = class_names[np.argmax(predictions[0])]\n",
    "    confidence = round(100 * (np.max(predictions[0])), 2)\n",
    "    return predicted_class, confidence"
   ]
  },
  {
   "cell_type": "code",
   "execution_count": null,
   "id": "ed61b3fb",
   "metadata": {
    "colab": {
     "base_uri": "https://localhost:8080/",
     "height": 1000,
     "output_embedded_package_id": "1aSQ0p-JzsbFUxpxtQWnV6y7P6LlQdRFM"
    },
    "executionInfo": {
     "elapsed": 7415,
     "status": "ok",
     "timestamp": 1722433951827,
     "user": {
      "displayName": "samy",
      "userId": "15936932194482825472"
     },
     "user_tz": -330
    },
    "id": "ed61b3fb",
    "outputId": "e05c841a-d7bc-44cf-ab8a-49884e0528a3"
   },
   "outputs": [],
   "source": [
    "plt.figure(figsize = (25,20))\n",
    "for images, labels in test_ds.take(1):\n",
    "    for i in range(20):\n",
    "        ax = plt.subplot(5,4,i+1)\n",
    "        plt.imshow(images[i].numpy().astype('uint8'))\n",
    "\n",
    "        predicted_class, confidence = predict(model, images[i].numpy())\n",
    "        actual_class = class_names[labels[i]]\n",
    "\n",
    "        plt.title(f\"Actual: {actual_class}, \\n Predicted: {predicted_class}, \\n Confidence: {confidence} \")\n",
    "\n",
    "        plt.axis('off')"
   ]
  },
  {
   "cell_type": "code",
   "execution_count": null,
   "id": "1b088249",
   "metadata": {
    "executionInfo": {
     "elapsed": 1077,
     "status": "ok",
     "timestamp": 1722433686426,
     "user": {
      "displayName": "samy",
      "userId": "15936932194482825472"
     },
     "user_tz": -330
    },
    "id": "1b088249",
    "scrolled": true
   },
   "outputs": [],
   "source": [
    "models_version = 1\n",
    "model.save(f\"../models/{models_version}\")"
   ]
  },
  {
   "cell_type": "code",
   "execution_count": null,
   "id": "bD8vfV0Ob2D2",
   "metadata": {
    "executionInfo": {
     "elapsed": 26,
     "status": "ok",
     "timestamp": 1722433686430,
     "user": {
      "displayName": "samy",
      "userId": "15936932194482825472"
     },
     "user_tz": -330
    },
    "id": "bD8vfV0Ob2D2"
   },
   "outputs": [],
   "source": [
    "# Save the model in .h5 format\n",
    "model.save('my_model.h5')\n",
    "\n",
    "print(\"Model saved to my_model.h5\")"
   ]
  },
  {
   "cell_type": "code",
   "execution_count": null,
   "id": "cpiGfMKBFPTX",
   "metadata": {
    "colab": {
     "base_uri": "https://localhost:8080/",
     "height": 370
    },
    "executionInfo": {
     "elapsed": 988,
     "status": "error",
     "timestamp": 1722434262263,
     "user": {
      "displayName": "samy",
      "userId": "15936932194482825472"
     },
     "user_tz": -330
    },
    "id": "cpiGfMKBFPTX",
    "outputId": "95673815-1182-4070-8af9-8ed6320d0af0"
   },
   "outputs": [],
   "source": [
    "# import shutil\n",
    "\n",
    "# # Path to the .h5 file in Colab\n",
    "# file_path = '/content/my_model.h5'\n",
    "\n",
    "# # Path in Google Drive where you want to save the .h5 file\n",
    "# drive_path = '/content/drive/My Drive/my_model.h5'\n",
    "\n",
    "# # Copy the file from Colab to Google Drive\n",
    "# shutil.copy(file_path, drive_path)\n",
    "\n",
    "# print(f\"File saved to: {drive_path}\")\n"
   ]
  },
  {
   "cell_type": "code",
   "execution_count": null,
   "id": "a879a2f8",
   "metadata": {},
   "outputs": [],
   "source": []
  }
 ],
 "metadata": {
  "accelerator": "TPU",
  "colab": {
   "gpuType": "V28",
   "provenance": []
  },
  "kernelspec": {
   "display_name": "Python 3 (ipykernel)",
   "language": "python",
   "name": "python3"
  },
  "language_info": {
   "codemirror_mode": {
    "name": "ipython",
    "version": 3
   },
   "file_extension": ".py",
   "mimetype": "text/x-python",
   "name": "python",
   "nbconvert_exporter": "python",
   "pygments_lexer": "ipython3",
   "version": "3.11.3"
  }
 },
 "nbformat": 4,
 "nbformat_minor": 5
}
